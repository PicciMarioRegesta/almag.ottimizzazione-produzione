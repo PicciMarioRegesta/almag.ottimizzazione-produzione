{
 "cells": [
  {
   "cell_type": "markdown",
   "id": "0f52ce03-f8d0-4e91-a8c3-a5bb092128f6",
   "metadata": {},
   "source": [
    "## Librerie"
   ]
  },
  {
   "cell_type": "code",
   "execution_count": 1,
   "id": "96d62588-a4f9-48d7-a42f-ff712149affa",
   "metadata": {},
   "outputs": [],
   "source": [
    "from scipy.optimize import minimize\n",
    "import numpy as np"
   ]
  },
  {
   "cell_type": "markdown",
   "id": "1cb21245-7501-4c80-b300-cbb0cd8fb0df",
   "metadata": {},
   "source": [
    "## Parametri problema"
   ]
  },
  {
   "cell_type": "code",
   "execution_count": 2,
   "id": "ba081c92-3fbe-4b90-8785-a01ac7917574",
   "metadata": {},
   "outputs": [],
   "source": [
    "consumi = np.array([1500, 5700, 3400, 300])\n",
    "produzioni = np.array([3000, 6300, 1200])\n",
    "ricette = np.array([\n",
    "    0.25, 0.2, 0.3,\n",
    "    0.43, 0.5, 0.35,\n",
    "    0.3, 0.27, 0.35,\n",
    "    0.02, 0.03,  0\n",
    "])"
   ]
  },
  {
   "cell_type": "markdown",
   "id": "4e369c19-0fda-4d07-bc8a-c85002e4b0f6",
   "metadata": {},
   "source": [
    "## Calcolo resa globale"
   ]
  },
  {
   "cell_type": "code",
   "execution_count": 3,
   "id": "ddaa3da0-549a-47b0-a4e1-3ea939ed1ce2",
   "metadata": {},
   "outputs": [
    {
     "data": {
      "text/plain": [
       "'resa_globale=np.float64(1.0380952380952382)'"
      ]
     },
     "execution_count": 3,
     "metadata": {},
     "output_type": "execute_result"
    }
   ],
   "source": [
    "tot_consumi = np.sum(consumi)\n",
    "tot_produzioni = np.sum(produzioni)\n",
    "resa_globale = tot_consumi / tot_produzioni\n",
    "f'{resa_globale=}'"
   ]
  },
  {
   "cell_type": "markdown",
   "id": "21557806-1e61-44c7-b371-4fc946eaacba",
   "metadata": {},
   "source": [
    "## Funzioni di calcolo"
   ]
  },
  {
   "cell_type": "code",
   "execution_count": 4,
   "id": "6e8240d0-5abf-4f39-9ed7-ea121efb6ac0",
   "metadata": {},
   "outputs": [],
   "source": [
    "# Calcola matrice consumi moltiplicando matrice ricetta in input per produzioni\n",
    "def calc_mat_consumi(ricetta):\n",
    "    return np.hstack(\n",
    "        [(ricetta.reshape(len(consumi), len(produzioni))[:,x] * produzioni[x]).reshape(len(consumi),1) for x in range(len(produzioni))]\n",
    "    )"
   ]
  },
  {
   "cell_type": "code",
   "execution_count": 5,
   "id": "18228d21-963a-4a3e-9daf-5c9144269b6c",
   "metadata": {},
   "outputs": [],
   "source": [
    "# Calcola vettore consumi complessivi partendo da produzioni iniziali e matrice consumi\n",
    "def calc_tot_consumi(matrice_consumi):\n",
    "    return [np.sum(matrice_consumi[x,:]) for x in range(len(consumi))]"
   ]
  },
  {
   "cell_type": "code",
   "execution_count": 6,
   "id": "c8742796-9e77-402b-9d8b-2dbc99c73657",
   "metadata": {},
   "outputs": [],
   "source": [
    "# Calcolo errore su totali consumi\n",
    "def calc_err_totali(ricetta):\n",
    "    matrice_consumi = calc_mat_consumi(ricetta)\n",
    "    tot_consumi = calc_tot_consumi(matrice_consumi)\n",
    "    tot_err = np.sum([x**2 for x in tot_consumi - consumi])\n",
    "    return tot_err"
   ]
  },
  {
   "cell_type": "code",
   "execution_count": 7,
   "id": "286b1a64-d898-43d4-8f2a-a2a2f064ea55",
   "metadata": {},
   "outputs": [],
   "source": [
    "# Calcola rese per famiglia \n",
    "# (consumi per famiglia / produzione)\n",
    "def calc_tot_resa(matrice_consumi):\n",
    "    return [\n",
    "        np.sum(matrice_consumi[:,i]) / produzioni[i]\n",
    "        for i in range(len(produzioni))\n",
    "    ]"
   ]
  },
  {
   "cell_type": "code",
   "execution_count": 8,
   "id": "6b649990-dff7-45f1-be0b-12f2e2dff2de",
   "metadata": {},
   "outputs": [],
   "source": [
    "# Calcolo errore su percentuali prod. effettive rispetto a resa totale\n",
    "def calc_error_resa(ricetta):\n",
    "    matrice_consumi = calc_mat_consumi(ricetta)\n",
    "    tot_resa = calc_tot_resa(matrice_consumi)\n",
    "    return np.sum((tot_resa - resa_globale) ** 2)"
   ]
  },
  {
   "cell_type": "markdown",
   "id": "9a66a481-f910-4e92-9b5d-5d55a47a0968",
   "metadata": {},
   "source": [
    "## Ottimizzazione"
   ]
  },
  {
   "cell_type": "code",
   "execution_count": 9,
   "id": "b2585de4-9936-467f-9a1a-33dc49ee5dc0",
   "metadata": {},
   "outputs": [
    {
     "name": "stdout",
     "output_type": "stream",
     "text": [
      " message: Optimization terminated successfully\n",
      " success: True\n",
      "  status: 0\n",
      "     fun: 1.658046342480683e-16\n",
      "       x: [ 1.218e-01  1.318e-01  2.536e-01  6.697e-01  5.000e-01\n",
      "            4.508e-01  2.466e-01  3.587e-01  3.335e-01  7.599e-06\n",
      "            4.759e-02  1.530e-04]\n",
      "     nit: 28\n",
      "     jac: [ 1.966e-09  4.672e-10 -1.211e-09  1.966e-09 -2.934e-08\n",
      "           -1.211e-09  1.966e-09  4.672e-10 -1.211e-09  1.966e-09\n",
      "            4.672e-10 -1.211e-09]\n",
      "    nfev: 368\n",
      "    njev: 28\n"
     ]
    }
   ],
   "source": [
    "costraints = (\n",
    "    {'type': 'eq', 'fun': calc_err_totali},\n",
    ")\n",
    "\n",
    "bounds = list(( (0, None) for x in range(len(produzioni)*len(consumi)) ))\n",
    "bounds[4] = (0, 0.5)\n",
    "\n",
    "res = minimize(\n",
    "    calc_error_resa, \n",
    "    ricette, \n",
    "    method='SLSQP',\n",
    "    constraints=costraints,\n",
    "    bounds=bounds\n",
    ")\n",
    "print(res)"
   ]
  },
  {
   "cell_type": "markdown",
   "id": "44e5fb7e-3dd8-4383-b536-e181c47a43cc",
   "metadata": {},
   "source": [
    "## Verifiche"
   ]
  },
  {
   "cell_type": "code",
   "execution_count": 16,
   "id": "56037baa-e042-4430-8db6-fb1c2bf62608",
   "metadata": {},
   "outputs": [
    {
     "data": {
      "text/plain": [
       "array([[1.21826639e+01, 1.31771497e+01, 2.53633033e+01],\n",
       "       [6.69688714e+01, 5.00000000e+01, 4.50777863e+01],\n",
       "       [2.46572279e+01, 3.58737340e+01, 3.33531289e+01],\n",
       "       [7.59932959e-04, 4.75863944e+00, 1.53045258e-02]])"
      ]
     },
     "execution_count": 16,
     "metadata": {},
     "output_type": "execute_result"
    }
   ],
   "source": [
    "res.x.reshape(len(consumi), len(produzioni))*100"
   ]
  },
  {
   "cell_type": "code",
   "execution_count": 11,
   "id": "76a32725-f7d6-474c-9348-48c28ce29988",
   "metadata": {},
   "outputs": [
    {
     "data": {
      "text/plain": [
       "array([[3.65479918e+02, 8.30160428e+02, 3.04359640e+02],\n",
       "       [2.00906614e+03, 3.15000000e+03, 5.40933436e+02],\n",
       "       [7.39716836e+02, 2.26004524e+03, 4.00237547e+02],\n",
       "       [2.27979888e-02, 2.99794285e+02, 1.83654310e-01]])"
      ]
     },
     "execution_count": 11,
     "metadata": {},
     "output_type": "execute_result"
    }
   ],
   "source": [
    "calc_mat_consumi(res.x)"
   ]
  },
  {
   "cell_type": "code",
   "execution_count": 12,
   "id": "91a76474-aca9-4096-8744-91e7441bcaea",
   "metadata": {},
   "outputs": [
    {
     "data": {
      "text/plain": [
       "[np.float64(1499.999985686171),\n",
       " np.float64(5699.999576405349),\n",
       " np.float64(3399.9996227149913),\n",
       " np.float64(300.00073709419877)]"
      ]
     },
     "execution_count": 12,
     "metadata": {},
     "output_type": "execute_result"
    }
   ],
   "source": [
    "calc_tot_consumi(calc_mat_consumi(res.x))"
   ]
  },
  {
   "cell_type": "code",
   "execution_count": 13,
   "id": "95361685-f04f-43a0-947a-ce57eca8871c",
   "metadata": {},
   "outputs": [
    {
     "data": {
      "text/plain": [
       "array([-1.43138291e-05, -4.23594651e-04, -3.77285009e-04,  7.37094199e-04])"
      ]
     },
     "execution_count": 13,
     "metadata": {},
     "output_type": "execute_result"
    }
   ],
   "source": [
    "calc_tot_consumi(calc_mat_consumi(res.x)) - consumi"
   ]
  },
  {
   "cell_type": "code",
   "execution_count": 14,
   "id": "1e1cf7aa-081a-4b38-a366-b17de5bcd64d",
   "metadata": {},
   "outputs": [
    {
     "data": {
      "text/plain": [
       "[np.float64(1.0380952308036815),\n",
       " np.float64(1.0380952306023719),\n",
       " np.float64(1.0380952305789366)]"
      ]
     },
     "execution_count": 14,
     "metadata": {},
     "output_type": "execute_result"
    }
   ],
   "source": [
    "calc_tot_resa(calc_mat_consumi(res.x))"
   ]
  },
  {
   "cell_type": "code",
   "execution_count": 15,
   "id": "3cb70117-96a7-4152-a5bf-fdd77376b51a",
   "metadata": {},
   "outputs": [
    {
     "data": {
      "text/plain": [
       "array([-7.29155669e-09, -7.49286633e-09, -7.51630158e-09])"
      ]
     },
     "execution_count": 15,
     "metadata": {},
     "output_type": "execute_result"
    }
   ],
   "source": [
    "calc_tot_resa(calc_mat_consumi(res.x)) - resa_globale"
   ]
  }
 ],
 "metadata": {
  "kernelspec": {
   "display_name": "Python 3 (ipykernel)",
   "language": "python",
   "name": "python3"
  },
  "language_info": {
   "codemirror_mode": {
    "name": "ipython",
    "version": 3
   },
   "file_extension": ".py",
   "mimetype": "text/x-python",
   "name": "python",
   "nbconvert_exporter": "python",
   "pygments_lexer": "ipython3",
   "version": "3.12.1"
  }
 },
 "nbformat": 4,
 "nbformat_minor": 5
}
