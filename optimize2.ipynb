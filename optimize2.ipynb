{
 "cells": [
  {
   "cell_type": "markdown",
   "id": "0f52ce03-f8d0-4e91-a8c3-a5bb092128f6",
   "metadata": {},
   "source": [
    "## Librerie"
   ]
  },
  {
   "cell_type": "code",
   "execution_count": 1,
   "id": "96d62588-a4f9-48d7-a42f-ff712149affa",
   "metadata": {},
   "outputs": [],
   "source": [
    "from scipy.optimize import minimize\n",
    "import numpy as np\n",
    "import pandas as pd"
   ]
  },
  {
   "cell_type": "markdown",
   "id": "1cb21245-7501-4c80-b300-cbb0cd8fb0df",
   "metadata": {},
   "source": [
    "## Parametri problema"
   ]
  },
  {
   "cell_type": "code",
   "execution_count": 2,
   "id": "ba081c92-3fbe-4b90-8785-a01ac7917574",
   "metadata": {},
   "outputs": [],
   "source": [
    "# Consumi famiglia 1, famiglia 2, ...\n",
    "consumi = np.array([1500, 5700, 3400, 300])\n",
    "\n",
    "# Produzioni ricetta1, ricetta2, ...\n",
    "produzioni = np.array([3000, 6300, 1200])\n",
    "\n",
    "# Ricette\n",
    "#           | Ricetta1 | Ricetta2 | ...\n",
    "# --------------------------------------\n",
    "# Famiglia1 |          |          |\n",
    "# Famiglia2 |          |          |\n",
    "# ...\n",
    "ricette = np.array([\n",
    "    0.25, 0.2, 0.3,\n",
    "    0.43, 0.5, 0.35,\n",
    "    0.3, 0.27, 0.35,\n",
    "    0.02, 0.03,  0\n",
    "])\n",
    "\n",
    "# Composizioni ricette per famiglia\n",
    "#           | Materiale1 | Materiale2 | ...\n",
    "# --------------------------------------\n",
    "# Famiglia1 |            |            |\n",
    "# Famiglia2 |            |            |\n",
    "# ...\n",
    "composizioni_famiglia = np.array([\n",
    "    0.58, 0.42, 0,\n",
    "    1, 0, 0,\n",
    "    0, 1, 0,\n",
    "    0, 0, 1\n",
    "])\n",
    "\n",
    "# Range ammissibile percentuale materiale per ricetta\n",
    "#           | Materiale1        | Materiale2 | ...\n",
    "# ------------------------------------------------\n",
    "# Ricetta1  | (val att. ,range) |            |\n",
    "# Ricetta2  |                   |            |\n",
    "# ...\n",
    "range_ric_mat = np.array([\n",
    "    [(0.58, 0.01), (0.396, 0.003), (0.024, 0.001)], # ricetta 0\n",
    "    [(0.625, 0.005), (None, None), (None, None)],\n",
    "    [(0.62, 0.01), (None, None), (None, None)],\n",
    "])"
   ]
  },
  {
   "cell_type": "markdown",
   "id": "4e369c19-0fda-4d07-bc8a-c85002e4b0f6",
   "metadata": {},
   "source": [
    "## Calcolo resa globale"
   ]
  },
  {
   "cell_type": "code",
   "execution_count": 3,
   "id": "ddaa3da0-549a-47b0-a4e1-3ea939ed1ce2",
   "metadata": {},
   "outputs": [
    {
     "data": {
      "text/plain": [
       "'resa_globale=np.float64(1.0380952380952382)'"
      ]
     },
     "execution_count": 3,
     "metadata": {},
     "output_type": "execute_result"
    }
   ],
   "source": [
    "tot_consumi = np.sum(consumi)\n",
    "tot_produzioni = np.sum(produzioni)\n",
    "resa_globale = tot_consumi / tot_produzioni\n",
    "f'{resa_globale=}'"
   ]
  },
  {
   "cell_type": "markdown",
   "id": "21557806-1e61-44c7-b371-4fc946eaacba",
   "metadata": {},
   "source": [
    "## Funzioni di calcolo"
   ]
  },
  {
   "cell_type": "code",
   "execution_count": 4,
   "id": "6e8240d0-5abf-4f39-9ed7-ea121efb6ac0",
   "metadata": {},
   "outputs": [],
   "source": [
    "# Calcola matrice consumi moltiplicando matrice ricetta in input per produzioni\n",
    "def calc_mat_consumi(ricetta):\n",
    "    return ricetta.reshape(-1, len(produzioni)) * produzioni"
   ]
  },
  {
   "cell_type": "code",
   "execution_count": 5,
   "id": "18228d21-963a-4a3e-9daf-5c9144269b6c",
   "metadata": {},
   "outputs": [],
   "source": [
    "# Calcola vettore consumi complessivi partendo da produzioni iniziali e matrice consumi\n",
    "def calc_tot_consumi(matrice_consumi):\n",
    "    return np.sum(matrice_consumi, axis=1)"
   ]
  },
  {
   "cell_type": "code",
   "execution_count": 6,
   "id": "c8742796-9e77-402b-9d8b-2dbc99c73657",
   "metadata": {},
   "outputs": [],
   "source": [
    "# Calcolo errore su totali consumi\n",
    "def calc_err_totali(ricetta):\n",
    "    matrice_consumi = calc_mat_consumi(ricetta)\n",
    "    tot_consumi = calc_tot_consumi(matrice_consumi)\n",
    "    tot_err = np.sum(np.square(tot_consumi-consumi))\n",
    "    return tot_err"
   ]
  },
  {
   "cell_type": "code",
   "execution_count": 7,
   "id": "286b1a64-d898-43d4-8f2a-a2a2f064ea55",
   "metadata": {},
   "outputs": [],
   "source": [
    "# Calcola rese per famiglia \n",
    "# (consumi per famiglia / produzione)\n",
    "def calc_tot_resa(matrice_consumi):\n",
    "    return np.sum(matrice_consumi, axis=0)/produzioni"
   ]
  },
  {
   "cell_type": "code",
   "execution_count": 8,
   "id": "6b649990-dff7-45f1-be0b-12f2e2dff2de",
   "metadata": {},
   "outputs": [],
   "source": [
    "# Calcolo errore su percentuali prod. effettive rispetto a resa totale\n",
    "def calc_error_resa(ricetta):\n",
    "    matrice_consumi = calc_mat_consumi(ricetta)\n",
    "    tot_resa = calc_tot_resa(matrice_consumi)\n",
    "    return np.sum(np.square(tot_resa - resa_globale))"
   ]
  },
  {
   "cell_type": "markdown",
   "id": "83d93cfb-d9b0-46fe-985f-27ebd1782e5f",
   "metadata": {},
   "source": [
    "## Analisi composizione"
   ]
  },
  {
   "cell_type": "code",
   "execution_count": 9,
   "id": "d84537bb-4a61-4216-8621-da4ba95137c0",
   "metadata": {},
   "outputs": [
    {
     "data": {
      "text/html": [
       "<div>\n",
       "<style scoped>\n",
       "    .dataframe tbody tr th:only-of-type {\n",
       "        vertical-align: middle;\n",
       "    }\n",
       "\n",
       "    .dataframe tbody tr th {\n",
       "        vertical-align: top;\n",
       "    }\n",
       "\n",
       "    .dataframe thead th {\n",
       "        text-align: right;\n",
       "    }\n",
       "</style>\n",
       "<table border=\"1\" class=\"dataframe\">\n",
       "  <thead>\n",
       "    <tr style=\"text-align: right;\">\n",
       "      <th></th>\n",
       "      <th>0</th>\n",
       "      <th>1</th>\n",
       "      <th>2</th>\n",
       "    </tr>\n",
       "  </thead>\n",
       "  <tbody>\n",
       "    <tr>\n",
       "      <th>0</th>\n",
       "      <td>750.0</td>\n",
       "      <td>1260.0</td>\n",
       "      <td>360.0</td>\n",
       "    </tr>\n",
       "    <tr>\n",
       "      <th>1</th>\n",
       "      <td>1290.0</td>\n",
       "      <td>3150.0</td>\n",
       "      <td>420.0</td>\n",
       "    </tr>\n",
       "    <tr>\n",
       "      <th>2</th>\n",
       "      <td>900.0</td>\n",
       "      <td>1701.0</td>\n",
       "      <td>420.0</td>\n",
       "    </tr>\n",
       "    <tr>\n",
       "      <th>3</th>\n",
       "      <td>60.0</td>\n",
       "      <td>189.0</td>\n",
       "      <td>0.0</td>\n",
       "    </tr>\n",
       "  </tbody>\n",
       "</table>\n",
       "</div>"
      ],
      "text/plain": [
       "        0       1      2\n",
       "0   750.0  1260.0  360.0\n",
       "1  1290.0  3150.0  420.0\n",
       "2   900.0  1701.0  420.0\n",
       "3    60.0   189.0    0.0"
      ]
     },
     "execution_count": 9,
     "metadata": {},
     "output_type": "execute_result"
    }
   ],
   "source": [
    "# Matrice consumi usando ricetta iniziale\n",
    "cons_fam = calc_mat_consumi(ricette)\n",
    "pd.DataFrame(cons_fam)"
   ]
  },
  {
   "cell_type": "code",
   "execution_count": 10,
   "id": "15b96568-f432-4b09-bf92-1c0e41a2507b",
   "metadata": {},
   "outputs": [
    {
     "data": {
      "text/html": [
       "<div>\n",
       "<style scoped>\n",
       "    .dataframe tbody tr th:only-of-type {\n",
       "        vertical-align: middle;\n",
       "    }\n",
       "\n",
       "    .dataframe tbody tr th {\n",
       "        vertical-align: top;\n",
       "    }\n",
       "\n",
       "    .dataframe thead th {\n",
       "        text-align: right;\n",
       "    }\n",
       "</style>\n",
       "<table border=\"1\" class=\"dataframe\">\n",
       "  <thead>\n",
       "    <tr style=\"text-align: right;\">\n",
       "      <th></th>\n",
       "      <th>Mat1</th>\n",
       "      <th>Mat2</th>\n",
       "      <th>Mat3</th>\n",
       "    </tr>\n",
       "  </thead>\n",
       "  <tbody>\n",
       "    <tr>\n",
       "      <th>0</th>\n",
       "      <td>0.58</td>\n",
       "      <td>0.42</td>\n",
       "      <td>0.0</td>\n",
       "    </tr>\n",
       "    <tr>\n",
       "      <th>1</th>\n",
       "      <td>1.00</td>\n",
       "      <td>0.00</td>\n",
       "      <td>0.0</td>\n",
       "    </tr>\n",
       "    <tr>\n",
       "      <th>2</th>\n",
       "      <td>0.00</td>\n",
       "      <td>1.00</td>\n",
       "      <td>0.0</td>\n",
       "    </tr>\n",
       "    <tr>\n",
       "      <th>3</th>\n",
       "      <td>0.00</td>\n",
       "      <td>0.00</td>\n",
       "      <td>1.0</td>\n",
       "    </tr>\n",
       "  </tbody>\n",
       "</table>\n",
       "</div>"
      ],
      "text/plain": [
       "   Mat1  Mat2  Mat3\n",
       "0  0.58  0.42   0.0\n",
       "1  1.00  0.00   0.0\n",
       "2  0.00  1.00   0.0\n",
       "3  0.00  0.00   1.0"
      ]
     },
     "execution_count": 10,
     "metadata": {},
     "output_type": "execute_result"
    }
   ],
   "source": [
    "# Reshape della matrice composizioni (famiglia vs materiale)\n",
    "compos = composizioni_famiglia.reshape(len(consumi), -1)\n",
    "pd.DataFrame(compos, columns=['Mat1', 'Mat2', 'Mat3'])"
   ]
  },
  {
   "cell_type": "code",
   "execution_count": 11,
   "id": "ba8a5198-ea3e-4e0a-b416-16aae605aaf4",
   "metadata": {},
   "outputs": [
    {
     "name": "stdout",
     "output_type": "stream",
     "text": [
      "[[ 750.]\n",
      " [1290.]\n",
      " [ 900.]\n",
      " [  60.]]\n",
      "\n",
      "[[ 435.  315.    0.]\n",
      " [1290.    0.    0.]\n",
      " [   0.  900.    0.]\n",
      " [   0.    0.   60.]]\n",
      "\n",
      "[1725. 1215.   60.]\n",
      "\n",
      "Composizione ricetta 0\n",
      "[0.575 0.405 0.02 ]\n"
     ]
    }
   ],
   "source": [
    "# Devo calcolare quanto materiale per ciascuna ricetta\n",
    "\n",
    "# Proviamo per prima colonna matrice consumi (quindi prima ricetta)\n",
    "# Moltiplico la colonna consumi di quella ricetta per le singole colonne della matrice composizione\n",
    "\n",
    "cons_ricetta0 = np.vstack(cons_fam[:,0])\n",
    "print(cons_ricetta0)\n",
    "print('')\n",
    "cons_materiali_ricetta0 = cons_ricetta0 * compos\n",
    "print(cons_materiali_ricetta0)\n",
    "print('')\n",
    "tot_cons_ricetta0 = np.sum(cons_materiali_ricetta0, axis=0)\n",
    "print(tot_cons_ricetta0)\n",
    "print('')\n",
    "print('Composizione ricetta 0')\n",
    "tot_perc_ricetta0 = tot_cons_ricetta0 / np.sum(tot_cons_ricetta0)\n",
    "print(tot_perc_ricetta0)"
   ]
  },
  {
   "cell_type": "code",
   "execution_count": 12,
   "id": "5c51f870-0f7a-4b1a-a523-0de3c964f72f",
   "metadata": {},
   "outputs": [],
   "source": [
    "# Percentuali di ciascun materiale in una ricetta\n",
    "def perc_mat(ricetta, id_ric):\n",
    "    cons_fam = calc_mat_consumi(ricetta)\n",
    "    compos = composizioni_famiglia.reshape(len(consumi), -1)\n",
    "    cons_ricetta0 = np.vstack(cons_fam[:,id_ric])\n",
    "    cons_materiali_ricetta0 = cons_ricetta0 * compos\n",
    "    tot_cons_ricetta0 = np.sum(cons_materiali_ricetta0, axis=0)\n",
    "    tot_perc_ricetta0 = tot_cons_ricetta0 / np.sum(tot_cons_ricetta0) if np.sum(tot_cons_ricetta0) != 0 else np.zeros((len(tot_cons_ricetta0),1))\n",
    "    return tot_perc_ricetta0"
   ]
  },
  {
   "cell_type": "code",
   "execution_count": 13,
   "id": "07973b4e-e44e-4e88-8da6-133755215e12",
   "metadata": {},
   "outputs": [],
   "source": [
    "# Funzione errore percentuale materiale (obiettivo: >=0)\n",
    "def err_perc_mat(ricetta, id_ric, id_mat, expected_val, expected_error):\n",
    "    return expected_error - np.abs(perc_mat(ricetta, id_ric=id_ric)[id_mat] - expected_val)"
   ]
  },
  {
   "cell_type": "markdown",
   "id": "9a66a481-f910-4e92-9b5d-5d55a47a0968",
   "metadata": {},
   "source": [
    "## Ottimizzazione"
   ]
  },
  {
   "cell_type": "code",
   "execution_count": 14,
   "id": "b2585de4-9936-467f-9a1a-33dc49ee5dc0",
   "metadata": {},
   "outputs": [
    {
     "name": "stdout",
     "output_type": "stream",
     "text": [
      "{'type': 'eq', 'fun': <function calc_err_totali at 0x0000016D436FE5C0>}\n",
      "{'type': 'ineq', 'fun': <function err_perc_mat at 0x0000016D436FD940>, 'args': (0, 0, 0.58, 0.01)}\n",
      "{'type': 'ineq', 'fun': <function err_perc_mat at 0x0000016D436FD940>, 'args': (0, 1, 0.396, 0.003)}\n",
      "{'type': 'ineq', 'fun': <function err_perc_mat at 0x0000016D436FD940>, 'args': (0, 2, 0.024, 0.001)}\n",
      "{'type': 'ineq', 'fun': <function err_perc_mat at 0x0000016D436FD940>, 'args': (1, 0, 0.625, 0.005)}\n",
      "Optimization terminated successfully    (Exit mode 0)\n",
      "            Current function value: 1.64746502685752e-16\n",
      "            Iterations: 28\n",
      "            Function evaluations: 369\n",
      "            Gradient evaluations: 28\n",
      " message: Optimization terminated successfully\n",
      " success: True\n",
      "  status: 0\n",
      "     fun: 1.64746502685752e-16\n",
      "       x: [ 2.024e-01  8.731e-02  2.857e-01  4.874e-01  6.012e-01\n",
      "            3.751e-01  3.234e-01  3.157e-01  3.676e-01  2.490e-02\n",
      "            3.392e-02  9.680e-03]\n",
      "     nit: 28\n",
      "     jac: [ 1.868e-10 -1.455e-09  1.777e-09  1.868e-10 -1.455e-09\n",
      "            1.777e-09  1.868e-10 -1.455e-09  1.777e-09  1.868e-10\n",
      "           -1.455e-09  1.777e-09]\n",
      "    nfev: 369\n",
      "    njev: 28\n"
     ]
    }
   ],
   "source": [
    "constraints = [\n",
    "    {'type': 'eq', 'fun': calc_err_totali},\n",
    "]\n",
    "\n",
    "for id_ric, ric in enumerate(range_ric_mat):\n",
    "    for id_mat, mat in enumerate(ric):\n",
    "        if any(mat):\n",
    "            constr = {'type': 'ineq', 'fun': err_perc_mat, 'args': (id_ric, id_mat, mat[0], mat[1])}\n",
    "            constraints.append(constr)\n",
    "\n",
    "# constraints = (\n",
    "#     {'type': 'eq', 'fun': calc_err_totali},\n",
    "#     {'type': 'ineq', 'fun': err_perc_mat, 'args': (0, 0, 0.58, 0.01)},\n",
    "#     {'type': 'ineq', 'fun': err_perc_mat, 'args': (0, 1, 0.396, 0.003)},\n",
    "#     {'type': 'ineq', 'fun': err_perc_mat, 'args': (0, 2, 0.024, 0.001)},\n",
    "#     {'type': 'ineq', 'fun': err_perc_mat, 'args': (1, 0, 0.625, 0.005)},\n",
    "#     # {'type': 'ineq', 'fun': err_perc_mat, 'args': (2, 0, 0.62, 0.01)},\n",
    "# )\n",
    "\n",
    "#DEBUG\n",
    "del constraints[5]\n",
    "\n",
    "for x in constraints:\n",
    "    print(x)\n",
    "\n",
    "bounds = list(( (0, None) for x in range(len(produzioni)*len(consumi)) ))\n",
    "# bounds[4] = (0, 0.5) #DEBUG\n",
    "\n",
    "res = minimize(\n",
    "    calc_error_resa, \n",
    "    ricette, \n",
    "    method='SLSQP',\n",
    "    constraints=constraints,\n",
    "    bounds=bounds,\n",
    "    options={'disp': True, 'maxiter':100}\n",
    ")\n",
    "\n",
    "print(res)"
   ]
  },
  {
   "cell_type": "code",
   "execution_count": 15,
   "id": "b181bfea-38b5-4182-9568-b68218217b7d",
   "metadata": {},
   "outputs": [],
   "source": [
    "# Esperimento\n",
    "# Proviamo a escludere un constraint alla volta e vediamo se troviamo una situazione\n",
    "# in cui il problema converge.\n",
    "\n",
    "# for i in range(1, len(constraints)):\n",
    "    \n",
    "#     print(i)\n",
    "    \n",
    "#     const_red = constraints[0:i] + constraints[i+1:]\n",
    "\n",
    "#     res = minimize(\n",
    "#         calc_error_resa, \n",
    "#         ricette, \n",
    "#         method='SLSQP',\n",
    "#         constraints=const_red,\n",
    "#         bounds=bounds,\n",
    "#         options={'disp': False, 'maxiter':100}\n",
    "#     )\n",
    "\n",
    "#     print(f'{res.success} - {res.message} ({res.nit} iterations)')\n"
   ]
  },
  {
   "cell_type": "markdown",
   "id": "44e5fb7e-3dd8-4383-b536-e181c47a43cc",
   "metadata": {},
   "source": [
    "## Verifiche"
   ]
  },
  {
   "cell_type": "code",
   "execution_count": 16,
   "id": "396a32f9-0727-4f2e-b0e4-494f50bf3707",
   "metadata": {},
   "outputs": [],
   "source": [
    "pd.options.display.float_format = '{:.6f}'.format"
   ]
  },
  {
   "cell_type": "code",
   "execution_count": 17,
   "id": "56037baa-e042-4430-8db6-fb1c2bf62608",
   "metadata": {},
   "outputs": [
    {
     "name": "stdout",
     "output_type": "stream",
     "text": [
      "Percentuali aggiustate (in %)\n"
     ]
    },
    {
     "data": {
      "text/html": [
       "<div>\n",
       "<style scoped>\n",
       "    .dataframe tbody tr th:only-of-type {\n",
       "        vertical-align: middle;\n",
       "    }\n",
       "\n",
       "    .dataframe tbody tr th {\n",
       "        vertical-align: top;\n",
       "    }\n",
       "\n",
       "    .dataframe thead th {\n",
       "        text-align: right;\n",
       "    }\n",
       "</style>\n",
       "<table border=\"1\" class=\"dataframe\">\n",
       "  <thead>\n",
       "    <tr style=\"text-align: right;\">\n",
       "      <th></th>\n",
       "      <th>0</th>\n",
       "      <th>1</th>\n",
       "      <th>2</th>\n",
       "    </tr>\n",
       "  </thead>\n",
       "  <tbody>\n",
       "    <tr>\n",
       "      <th>0</th>\n",
       "      <td>20.237896</td>\n",
       "      <td>8.731058</td>\n",
       "      <td>28.567166</td>\n",
       "    </tr>\n",
       "    <tr>\n",
       "      <th>1</th>\n",
       "      <td>48.740183</td>\n",
       "      <td>60.121563</td>\n",
       "      <td>37.511361</td>\n",
       "    </tr>\n",
       "    <tr>\n",
       "      <th>2</th>\n",
       "      <td>32.341145</td>\n",
       "      <td>31.565242</td>\n",
       "      <td>36.762982</td>\n",
       "    </tr>\n",
       "    <tr>\n",
       "      <th>3</th>\n",
       "      <td>2.490300</td>\n",
       "      <td>3.391661</td>\n",
       "      <td>0.968014</td>\n",
       "    </tr>\n",
       "  </tbody>\n",
       "</table>\n",
       "</div>"
      ],
      "text/plain": [
       "          0         1         2\n",
       "0 20.237896  8.731058 28.567166\n",
       "1 48.740183 60.121563 37.511361\n",
       "2 32.341145 31.565242 36.762982\n",
       "3  2.490300  3.391661  0.968014"
      ]
     },
     "execution_count": 17,
     "metadata": {},
     "output_type": "execute_result"
    }
   ],
   "source": [
    "print(\"Percentuali aggiustate (in %)\")\n",
    "pd.DataFrame(\n",
    "    res.x.reshape(len(consumi), len(produzioni))*100\n",
    ")"
   ]
  },
  {
   "cell_type": "code",
   "execution_count": 18,
   "id": "76a32725-f7d6-474c-9348-48c28ce29988",
   "metadata": {},
   "outputs": [
    {
     "name": "stdout",
     "output_type": "stream",
     "text": [
      "Matrice consumi\n"
     ]
    },
    {
     "data": {
      "text/html": [
       "<div>\n",
       "<style scoped>\n",
       "    .dataframe tbody tr th:only-of-type {\n",
       "        vertical-align: middle;\n",
       "    }\n",
       "\n",
       "    .dataframe tbody tr th {\n",
       "        vertical-align: top;\n",
       "    }\n",
       "\n",
       "    .dataframe thead th {\n",
       "        text-align: right;\n",
       "    }\n",
       "</style>\n",
       "<table border=\"1\" class=\"dataframe\">\n",
       "  <thead>\n",
       "    <tr style=\"text-align: right;\">\n",
       "      <th></th>\n",
       "      <th>0</th>\n",
       "      <th>1</th>\n",
       "      <th>2</th>\n",
       "    </tr>\n",
       "  </thead>\n",
       "  <tbody>\n",
       "    <tr>\n",
       "      <th>0</th>\n",
       "      <td>607.136877</td>\n",
       "      <td>550.056623</td>\n",
       "      <td>342.805987</td>\n",
       "    </tr>\n",
       "    <tr>\n",
       "      <th>1</th>\n",
       "      <td>1462.205482</td>\n",
       "      <td>3787.658459</td>\n",
       "      <td>450.136331</td>\n",
       "    </tr>\n",
       "    <tr>\n",
       "      <th>2</th>\n",
       "      <td>970.234337</td>\n",
       "      <td>1988.610255</td>\n",
       "      <td>441.155787</td>\n",
       "    </tr>\n",
       "    <tr>\n",
       "      <th>3</th>\n",
       "      <td>74.708997</td>\n",
       "      <td>213.674616</td>\n",
       "      <td>11.616172</td>\n",
       "    </tr>\n",
       "  </tbody>\n",
       "</table>\n",
       "</div>"
      ],
      "text/plain": [
       "            0           1          2\n",
       "0  607.136877  550.056623 342.805987\n",
       "1 1462.205482 3787.658459 450.136331\n",
       "2  970.234337 1988.610255 441.155787\n",
       "3   74.708997  213.674616  11.616172"
      ]
     },
     "execution_count": 18,
     "metadata": {},
     "output_type": "execute_result"
    }
   ],
   "source": [
    "print(\"Matrice consumi\")\n",
    "pd.DataFrame(\n",
    "    calc_mat_consumi(res.x)\n",
    ")"
   ]
  },
  {
   "cell_type": "code",
   "execution_count": 19,
   "id": "91a76474-aca9-4096-8744-91e7441bcaea",
   "metadata": {},
   "outputs": [
    {
     "name": "stdout",
     "output_type": "stream",
     "text": [
      "Verifica totale consumi\n"
     ]
    },
    {
     "data": {
      "text/html": [
       "<div>\n",
       "<style scoped>\n",
       "    .dataframe tbody tr th:only-of-type {\n",
       "        vertical-align: middle;\n",
       "    }\n",
       "\n",
       "    .dataframe tbody tr th {\n",
       "        vertical-align: top;\n",
       "    }\n",
       "\n",
       "    .dataframe thead th {\n",
       "        text-align: right;\n",
       "    }\n",
       "</style>\n",
       "<table border=\"1\" class=\"dataframe\">\n",
       "  <thead>\n",
       "    <tr style=\"text-align: right;\">\n",
       "      <th></th>\n",
       "      <th>0</th>\n",
       "      <th>1</th>\n",
       "      <th>2</th>\n",
       "      <th>3</th>\n",
       "    </tr>\n",
       "  </thead>\n",
       "  <tbody>\n",
       "    <tr>\n",
       "      <th>0</th>\n",
       "      <td>1499.999487</td>\n",
       "      <td>5700.000272</td>\n",
       "      <td>3400.000379</td>\n",
       "      <td>299.999784</td>\n",
       "    </tr>\n",
       "  </tbody>\n",
       "</table>\n",
       "</div>"
      ],
      "text/plain": [
       "            0           1           2          3\n",
       "0 1499.999487 5700.000272 3400.000379 299.999784"
      ]
     },
     "execution_count": 19,
     "metadata": {},
     "output_type": "execute_result"
    }
   ],
   "source": [
    "print('Verifica totale consumi')\n",
    "pd.DataFrame(\n",
    "    [calc_tot_consumi(calc_mat_consumi(res.x))]\n",
    ")"
   ]
  },
  {
   "cell_type": "code",
   "execution_count": 20,
   "id": "95361685-f04f-43a0-947a-ce57eca8871c",
   "metadata": {},
   "outputs": [
    {
     "name": "stdout",
     "output_type": "stream",
     "text": [
      "Verifica errore consumi\n"
     ]
    },
    {
     "data": {
      "text/html": [
       "<div>\n",
       "<style scoped>\n",
       "    .dataframe tbody tr th:only-of-type {\n",
       "        vertical-align: middle;\n",
       "    }\n",
       "\n",
       "    .dataframe tbody tr th {\n",
       "        vertical-align: top;\n",
       "    }\n",
       "\n",
       "    .dataframe thead th {\n",
       "        text-align: right;\n",
       "    }\n",
       "</style>\n",
       "<table border=\"1\" class=\"dataframe\">\n",
       "  <thead>\n",
       "    <tr style=\"text-align: right;\">\n",
       "      <th></th>\n",
       "      <th>0</th>\n",
       "      <th>1</th>\n",
       "      <th>2</th>\n",
       "      <th>3</th>\n",
       "    </tr>\n",
       "  </thead>\n",
       "  <tbody>\n",
       "    <tr>\n",
       "      <th>0</th>\n",
       "      <td>-0.000513</td>\n",
       "      <td>0.000272</td>\n",
       "      <td>0.000379</td>\n",
       "      <td>-0.000216</td>\n",
       "    </tr>\n",
       "  </tbody>\n",
       "</table>\n",
       "</div>"
      ],
      "text/plain": [
       "          0        1        2         3\n",
       "0 -0.000513 0.000272 0.000379 -0.000216"
      ]
     },
     "execution_count": 20,
     "metadata": {},
     "output_type": "execute_result"
    }
   ],
   "source": [
    "print('Verifica errore consumi')\n",
    "pd.DataFrame([calc_tot_consumi(calc_mat_consumi(res.x)) - consumi])"
   ]
  },
  {
   "cell_type": "code",
   "execution_count": 21,
   "id": "1e1cf7aa-081a-4b38-a366-b17de5bcd64d",
   "metadata": {},
   "outputs": [
    {
     "name": "stdout",
     "output_type": "stream",
     "text": [
      "Verifica rese (resa globale: 1.04)\n"
     ]
    },
    {
     "data": {
      "text/html": [
       "<div>\n",
       "<style scoped>\n",
       "    .dataframe tbody tr th:only-of-type {\n",
       "        vertical-align: middle;\n",
       "    }\n",
       "\n",
       "    .dataframe tbody tr th {\n",
       "        vertical-align: top;\n",
       "    }\n",
       "\n",
       "    .dataframe thead th {\n",
       "        text-align: right;\n",
       "    }\n",
       "</style>\n",
       "<table border=\"1\" class=\"dataframe\">\n",
       "  <thead>\n",
       "    <tr style=\"text-align: right;\">\n",
       "      <th></th>\n",
       "      <th>0</th>\n",
       "      <th>1</th>\n",
       "      <th>2</th>\n",
       "    </tr>\n",
       "  </thead>\n",
       "  <tbody>\n",
       "    <tr>\n",
       "      <th>0</th>\n",
       "      <td>1.038095</td>\n",
       "      <td>1.038095</td>\n",
       "      <td>1.038095</td>\n",
       "    </tr>\n",
       "  </tbody>\n",
       "</table>\n",
       "</div>"
      ],
      "text/plain": [
       "         0        1        2\n",
       "0 1.038095 1.038095 1.038095"
      ]
     },
     "execution_count": 21,
     "metadata": {},
     "output_type": "execute_result"
    }
   ],
   "source": [
    "print(f'Verifica rese (resa globale: {resa_globale:.2f})')\n",
    "pd.DataFrame(\n",
    "    [calc_tot_resa(calc_mat_consumi(res.x))]\n",
    ")"
   ]
  },
  {
   "cell_type": "code",
   "execution_count": 22,
   "id": "3cb70117-96a7-4152-a5bf-fdd77376b51a",
   "metadata": {},
   "outputs": [
    {
     "name": "stdout",
     "output_type": "stream",
     "text": [
      "Verifica errore rese (resa globale: 1.04)\n"
     ]
    },
    {
     "data": {
      "text/html": [
       "<div>\n",
       "<style scoped>\n",
       "    .dataframe tbody tr th:only-of-type {\n",
       "        vertical-align: middle;\n",
       "    }\n",
       "\n",
       "    .dataframe tbody tr th {\n",
       "        vertical-align: top;\n",
       "    }\n",
       "\n",
       "    .dataframe thead th {\n",
       "        text-align: right;\n",
       "    }\n",
       "</style>\n",
       "<table border=\"1\" class=\"dataframe\">\n",
       "  <thead>\n",
       "    <tr style=\"text-align: right;\">\n",
       "      <th></th>\n",
       "      <th>0</th>\n",
       "      <th>1</th>\n",
       "      <th>2</th>\n",
       "    </tr>\n",
       "  </thead>\n",
       "  <tbody>\n",
       "    <tr>\n",
       "      <th>0</th>\n",
       "      <td>-0.000000</td>\n",
       "      <td>-0.000000</td>\n",
       "      <td>-0.000000</td>\n",
       "    </tr>\n",
       "  </tbody>\n",
       "</table>\n",
       "</div>"
      ],
      "text/plain": [
       "          0         1         2\n",
       "0 -0.000000 -0.000000 -0.000000"
      ]
     },
     "execution_count": 22,
     "metadata": {},
     "output_type": "execute_result"
    }
   ],
   "source": [
    "print(f'Verifica errore rese (resa globale: {resa_globale:.2f})')\n",
    "pd.DataFrame(\n",
    "    [calc_tot_resa(calc_mat_consumi(res.x)) - resa_globale]\n",
    ")"
   ]
  },
  {
   "cell_type": "code",
   "execution_count": 23,
   "id": "2091cc7d-a04a-4746-8bde-5cbdf92631c8",
   "metadata": {},
   "outputs": [
    {
     "name": "stdout",
     "output_type": "stream",
     "text": [
      "Percentuali materiali ricetta 0\n",
      "[[0.58 0.01]\n",
      " [0.396 0.003]\n",
      " [0.024 0.001]]\n"
     ]
    },
    {
     "data": {
      "text/html": [
       "<div>\n",
       "<style scoped>\n",
       "    .dataframe tbody tr th:only-of-type {\n",
       "        vertical-align: middle;\n",
       "    }\n",
       "\n",
       "    .dataframe tbody tr th {\n",
       "        vertical-align: top;\n",
       "    }\n",
       "\n",
       "    .dataframe thead th {\n",
       "        text-align: right;\n",
       "    }\n",
       "</style>\n",
       "<table border=\"1\" class=\"dataframe\">\n",
       "  <thead>\n",
       "    <tr style=\"text-align: right;\">\n",
       "      <th></th>\n",
       "      <th>0</th>\n",
       "      <th>1</th>\n",
       "      <th>2</th>\n",
       "    </tr>\n",
       "  </thead>\n",
       "  <tbody>\n",
       "    <tr>\n",
       "      <th>0</th>\n",
       "      <td>58.258781</td>\n",
       "      <td>39.342307</td>\n",
       "      <td>2.398913</td>\n",
       "    </tr>\n",
       "  </tbody>\n",
       "</table>\n",
       "</div>"
      ],
      "text/plain": [
       "          0         1        2\n",
       "0 58.258781 39.342307 2.398913"
      ]
     },
     "execution_count": 23,
     "metadata": {},
     "output_type": "execute_result"
    }
   ],
   "source": [
    "print('Percentuali materiali ricetta 0')\n",
    "print(range_ric_mat[0])\n",
    "pd.DataFrame([perc_mat(res.x, 0) * 100])"
   ]
  },
  {
   "cell_type": "code",
   "execution_count": 24,
   "id": "6fa9e419-0bb5-4a00-b5a9-789436e4ec70",
   "metadata": {},
   "outputs": [
    {
     "name": "stdout",
     "output_type": "stream",
     "text": [
      "Percentuali materiali ricetta 1\n",
      "[[0.625 0.005]\n",
      " [None None]\n",
      " [None None]]\n"
     ]
    },
    {
     "data": {
      "text/html": [
       "<div>\n",
       "<style scoped>\n",
       "    .dataframe tbody tr th:only-of-type {\n",
       "        vertical-align: middle;\n",
       "    }\n",
       "\n",
       "    .dataframe tbody tr th {\n",
       "        vertical-align: top;\n",
       "    }\n",
       "\n",
       "    .dataframe thead th {\n",
       "        text-align: right;\n",
       "    }\n",
       "</style>\n",
       "<table border=\"1\" class=\"dataframe\">\n",
       "  <thead>\n",
       "    <tr style=\"text-align: right;\">\n",
       "      <th></th>\n",
       "      <th>0</th>\n",
       "      <th>1</th>\n",
       "      <th>2</th>\n",
       "    </tr>\n",
       "  </thead>\n",
       "  <tbody>\n",
       "    <tr>\n",
       "      <th>0</th>\n",
       "      <td>62.793445</td>\n",
       "      <td>33.939359</td>\n",
       "      <td>3.267196</td>\n",
       "    </tr>\n",
       "  </tbody>\n",
       "</table>\n",
       "</div>"
      ],
      "text/plain": [
       "          0         1        2\n",
       "0 62.793445 33.939359 3.267196"
      ]
     },
     "execution_count": 24,
     "metadata": {},
     "output_type": "execute_result"
    }
   ],
   "source": [
    "print('Percentuali materiali ricetta 1')\n",
    "print(range_ric_mat[1])\n",
    "pd.DataFrame([perc_mat(res.x, 1) * 100])"
   ]
  },
  {
   "cell_type": "code",
   "execution_count": 25,
   "id": "4eac92b2-ecf9-4514-99d8-a132970438ff",
   "metadata": {},
   "outputs": [
    {
     "name": "stdout",
     "output_type": "stream",
     "text": [
      "Percentuali materiali ricetta 2\n",
      "[[0.62 0.01]\n",
      " [None None]\n",
      " [None None]]\n"
     ]
    },
    {
     "data": {
      "text/html": [
       "<div>\n",
       "<style scoped>\n",
       "    .dataframe tbody tr th:only-of-type {\n",
       "        vertical-align: middle;\n",
       "    }\n",
       "\n",
       "    .dataframe tbody tr th {\n",
       "        vertical-align: top;\n",
       "    }\n",
       "\n",
       "    .dataframe thead th {\n",
       "        text-align: right;\n",
       "    }\n",
       "</style>\n",
       "<table border=\"1\" class=\"dataframe\">\n",
       "  <thead>\n",
       "    <tr style=\"text-align: right;\">\n",
       "      <th></th>\n",
       "      <th>0</th>\n",
       "      <th>1</th>\n",
       "      <th>2</th>\n",
       "    </tr>\n",
       "  </thead>\n",
       "  <tbody>\n",
       "    <tr>\n",
       "      <th>0</th>\n",
       "      <td>52.095719</td>\n",
       "      <td>46.971791</td>\n",
       "      <td>0.932491</td>\n",
       "    </tr>\n",
       "  </tbody>\n",
       "</table>\n",
       "</div>"
      ],
      "text/plain": [
       "          0         1        2\n",
       "0 52.095719 46.971791 0.932491"
      ]
     },
     "execution_count": 25,
     "metadata": {},
     "output_type": "execute_result"
    }
   ],
   "source": [
    "print('Percentuali materiali ricetta 2')\n",
    "print(range_ric_mat[2])\n",
    "pd.DataFrame([perc_mat(res.x, 2) * 100])"
   ]
  }
 ],
 "metadata": {
  "kernelspec": {
   "display_name": "Python 3 (ipykernel)",
   "language": "python",
   "name": "python3"
  },
  "language_info": {
   "codemirror_mode": {
    "name": "ipython",
    "version": 3
   },
   "file_extension": ".py",
   "mimetype": "text/x-python",
   "name": "python",
   "nbconvert_exporter": "python",
   "pygments_lexer": "ipython3",
   "version": "3.12.1"
  }
 },
 "nbformat": 4,
 "nbformat_minor": 5
}
