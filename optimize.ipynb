{
 "cells": [
  {
   "cell_type": "code",
   "execution_count": 1,
   "id": "ec2b0a28-091b-4927-ab6c-bbf9d0d96498",
   "metadata": {},
   "outputs": [],
   "source": [
    "from scipy.optimize import minimize\n",
    "import numpy as np"
   ]
  },
  {
   "cell_type": "code",
   "execution_count": 2,
   "id": "f0b9564f-a8f6-4688-88db-7fe5ce002bd2",
   "metadata": {},
   "outputs": [],
   "source": [
    "x0 = [1,1,1]"
   ]
  },
  {
   "cell_type": "code",
   "execution_count": 3,
   "id": "d7e8802a-5d26-4136-b4bc-83aa6adacc48",
   "metadata": {},
   "outputs": [],
   "source": [
    "def objective(x):\n",
    "    x0 = x[0]\n",
    "    x1 = x[1]\n",
    "    x2 = x[2]\n",
    "    return np.abs(np.sum([3000,6300,1200] * x) - 10900)"
   ]
  },
  {
   "cell_type": "code",
   "execution_count": 4,
   "id": "cd2493e5-a95f-4c25-822f-876eed7f065b",
   "metadata": {},
   "outputs": [],
   "source": [
    "bounds = [\n",
    "    (None, None),\n",
    "    (None, None),\n",
    "    (None, None),\n",
    "]"
   ]
  },
  {
   "cell_type": "code",
   "execution_count": 5,
   "id": "acdd0659-e9ee-403f-a44c-28070825862e",
   "metadata": {},
   "outputs": [
    {
     "data": {
      "text/plain": [
       " message: Optimization terminated successfully\n",
       " success: True\n",
       "  status: 0\n",
       "     fun: 7.772772369207814e-05\n",
       "       x: [ 1.024e+00  1.050e+00  1.010e+00]\n",
       "     nit: 6\n",
       "     jac: [ 3.000e+03  6.300e+03  1.200e+03]\n",
       "    nfev: 43\n",
       "    njev: 6"
      ]
     },
     "execution_count": 5,
     "metadata": {},
     "output_type": "execute_result"
    }
   ],
   "source": [
    "res = minimize(\n",
    "    objective, \n",
    "    x0, \n",
    "    method='SLSQP',\n",
    "    bounds=bounds\n",
    ")\n",
    "res"
   ]
  },
  {
   "cell_type": "code",
   "execution_count": 6,
   "id": "6206b2c2-c6a6-4add-a81c-7da3326bb86b",
   "metadata": {},
   "outputs": [
    {
     "data": {
      "text/plain": [
       "np.float64(10899.999922272276)"
      ]
     },
     "execution_count": 6,
     "metadata": {},
     "output_type": "execute_result"
    }
   ],
   "source": [
    "np.sum([3000,6300,1200] * res.x)"
   ]
  }
 ],
 "metadata": {
  "kernelspec": {
   "display_name": "Python 3 (ipykernel)",
   "language": "python",
   "name": "python3"
  },
  "language_info": {
   "codemirror_mode": {
    "name": "ipython",
    "version": 3
   },
   "file_extension": ".py",
   "mimetype": "text/x-python",
   "name": "python",
   "nbconvert_exporter": "python",
   "pygments_lexer": "ipython3",
   "version": "3.12.1"
  }
 },
 "nbformat": 4,
 "nbformat_minor": 5
}
